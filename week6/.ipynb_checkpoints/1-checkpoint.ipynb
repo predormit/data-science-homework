{
 "cells": [
  {
   "cell_type": "code",
   "execution_count": 2,
   "id": "6ff0092c",
   "metadata": {},
   "outputs": [],
   "source": [
    "import numpy as np\n",
    "import matplotlib.pyplot as plt"
   ]
  },
  {
   "cell_type": "code",
   "execution_count": 3,
   "id": "ea6f5fea",
   "metadata": {},
   "outputs": [],
   "source": [
    "samples = np.random.randn(100)"
   ]
  },
  {
   "cell_type": "code",
   "execution_count": 4,
   "id": "43000f6f",
   "metadata": {},
   "outputs": [],
   "source": [
    "#print(samples)"
   ]
  },
  {
   "cell_type": "code",
   "execution_count": 5,
   "id": "6fbf3d31",
   "metadata": {},
   "outputs": [
    {
     "data": {
      "image/png": "[encoded data removed]",
      "text/plain": [
       "<Figure size 640x480 with 1 Axes>"
      ]
     },
     "metadata": {},
     "output_type": "display_data"
    }
   ],
   "source": [
    "plt.hist(samples,bins=10,edgecolor='black')\n",
    "plt.title(\"sample from standard normal distribution\")\n",
    "plt.xlabel(\"value\")\n",
    "plt.ylabel(\"frequency\")\n",
    "plt.grid(True)\n",
    "plt.show()"
   ]
  },
  {
   "cell_type": "code",
   "execution_count": 8,
   "id": "972b55ce",
   "metadata": {},
   "outputs": [
    {
     "name": "stdout",
     "output_type": "stream",
     "text": [
      "[1. 1.] [[1. 0.]\n",
      " [0. 1.]]\n"
     ]
    }
   ],
   "source": [
    "matrix = np.array([[1,0],\n",
    "                 [0,1]])\n",
    "\n",
    "eigenvalues,eigenvectors = np.linalg.eig(matrix)\n",
    "\n",
    "print(eigenvalues,eigenvectors)"
   ]
  },
  {
   "cell_type": "code",
   "execution_count": 16,
   "id": "175a09a2",
   "metadata": {},
   "outputs": [
    {
     "name": "stdout",
     "output_type": "stream",
     "text": [
      "最大特征值: 6.0000001860544385\n"
     ]
    }
   ],
   "source": [
    "A = np.array([[2,1],\n",
    "              [4,5]])\n",
    "\n",
    "x = np.array([1.0,1.0])\n",
    "max_iteration = 1000\n",
    "tolerance = 1e-6\n",
    "\n",
    "for iteration in range(max_iteration):\n",
    "    Ax = np.dot(A,x)\n",
    "    max_ax = np.max(np.abs(Ax))\n",
    "    x = Ax / max_ax\n",
    "    eigenvalue = max_ax\n",
    "    \n",
    "    if np.linalg.norm(np.dot(A,x) - eigenvalue * x) < tolerance:\n",
    "        break\n",
    "        \n",
    "print(\"最大特征值:\",eigenvalue)\n",
    "    \n"
   ]
  },
  {
   "cell_type": "code",
   "execution_count": 18,
   "id": "c2b1e97d",
   "metadata": {},
   "outputs": [
    {
     "name": "stdout",
     "output_type": "stream",
     "text": [
      "协方差矩阵:\n",
      "[[ 0.33333333  0.          0.5       ]\n",
      " [ 0.          4.         -5.        ]\n",
      " [ 0.5        -5.          7.        ]]\n"
     ]
    }
   ],
   "source": [
    "data = np.array([[1,-1,4],\n",
    "                [2,1,3],\n",
    "                [1,3,-1]])\n",
    "\n",
    "cov = np.cov(data,rowvar = False)\n",
    "\n",
    "print(\"协方差矩阵:\")\n",
    "print(cov)"
   ]
  },
  {
   "cell_type": "code",
   "execution_count": 23,
   "id": "ce8a5b5c",
   "metadata": {},
   "outputs": [
    {
     "name": "stdout",
     "output_type": "stream",
     "text": [
      "特征值：\n",
      "10.735635441909865\n",
      "10.735635441915164\n",
      "10.735635441915184\n",
      "\n",
      "特征向量：\n",
      "[-0.03856607  0.59560288 -0.80235271]\n",
      "[-0.03856611  0.59560285 -0.80235273]\n",
      "[-0.03856611  0.59560285 -0.80235273]\n"
     ]
    }
   ],
   "source": [
    "v = np.random.rand(cov.shape[0])\n",
    "\n",
    "max_iteration = 1000\n",
    "tolerance = 1e-6\n",
    "\n",
    "eigenvalues = []\n",
    "eigenvectors = []\n",
    "\n",
    "for i in range(cov.shape[0]):\n",
    "    for j in range(max_iteration):\n",
    "        Av = np.dot(cov,v)\n",
    "        eigenvalue = np.linalg.norm(Av)\n",
    "        \n",
    "        v = Av / eigenvalue\n",
    "        \n",
    "        if np.linalg.norm(np.dot(cov,v) - eigenvalue * v) < tolerance:\n",
    "            break\n",
    "            \n",
    "    eigenvalues.append(eigenvalue)\n",
    "    eigenvectors.append(v)\n",
    "    \n",
    "print(\"特征值：\")\n",
    "for eigenvalue in eigenvalues:\n",
    "    print(eigenvalue)\n",
    "    \n",
    "print(\"\\n特征向量：\")\n",
    "for eigenvector in eigenvectors:\n",
    "    print(eigenvector)"
   ]
  },
  {
   "cell_type": "code",
   "execution_count": null,
   "id": "7bcc24f8",
   "metadata": {},
   "outputs": [],
   "source": []
  }
 ],
 "metadata": {
  "kernelspec": {
   "display_name": "Python 3 (ipykernel)",
   "language": "python",
   "name": "python3"
  },
  "language_info": {
   "codemirror_mode": {
    "name": "ipython",
    "version": 3
   },
   "file_extension": ".py",
   "mimetype": "text/x-python",
   "name": "python",
   "nbconvert_exporter": "python",
   "pygments_lexer": "ipython3",
   "version": "3.10.9"
  }
 },
 "nbformat": 4,
 "nbformat_minor": 5
}
